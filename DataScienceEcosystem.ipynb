{
 "cells": [
  {
   "cell_type": "markdown",
   "id": "74d1c5b5-15c1-4661-b5fc-00fa22a2d948",
   "metadata": {},
   "source": [
    "# Data Science Tools and Ecosystem"
   ]
  },
  {
   "cell_type": "markdown",
   "id": "4e070578-3d33-40e5-b1fb-892af4ad0515",
   "metadata": {},
   "source": [
    "In this notebook, Data Science Tools and Ecosystem are summarized."
   ]
  },
  {
   "cell_type": "markdown",
   "id": "f1bb9cec-5f92-42ee-a508-7da03c9eb726",
   "metadata": {},
   "source": [
    "Some of the popular languages that Data Scientists use are:\n",
    "1. Python\n",
    "2. R\n",
    "3. SQL\n",
    "4. C/C++\n",
    "5. Julia"
   ]
  },
  {
   "cell_type": "markdown",
   "id": "1cca7b67-e1e6-4897-97b8-18420c3aeb94",
   "metadata": {},
   "source": [
    "Some of the commonly used libraries used by Data Scientists include:\n",
    "1. pandas\n",
    "2. numpy\n",
    "3. matplotlib\n",
    "4. TensorFlow\n",
    "5. scikit-learn"
   ]
  },
  {
   "cell_type": "markdown",
   "id": "d4a375ab-2d8d-458d-9f7f-b0d73e710a53",
   "metadata": {},
   "source": [
    "|Data Science Tools|\n",
    "---\n",
    "|Git/GitHub|\n",
    "|Jupyter Notebook|\n",
    "|R Studio|"
   ]
  },
  {
   "cell_type": "markdown",
   "id": "97f993ef-042a-4ce9-aaac-7e322a86427b",
   "metadata": {},
   "source": [
    "### Below are a few examples of evaluating arithmetic expressions in Python"
   ]
  },
  {
   "cell_type": "code",
   "execution_count": 13,
   "id": "0e0c9dc1-e6c0-447c-b6e2-c1ee908d67c9",
   "metadata": {},
   "outputs": [
    {
     "data": {
      "text/plain": [
       "17"
      ]
     },
     "execution_count": 13,
     "metadata": {},
     "output_type": "execute_result"
    }
   ],
   "source": [
    "# This a simple arithmetic expression to mutiply then add integers\n",
    "(3*4)+5"
   ]
  },
  {
   "cell_type": "code",
   "execution_count": 15,
   "id": "da68cd50-2b4f-4479-89ae-58cee5be69cd",
   "metadata": {},
   "outputs": [
    {
     "data": {
      "text/plain": [
       "3.3333333333333335"
      ]
     },
     "execution_count": 15,
     "metadata": {},
     "output_type": "execute_result"
    }
   ],
   "source": [
    "# This will convert 200 minutes to hours by diving by 60\n",
    "200/60"
   ]
  },
  {
   "cell_type": "markdown",
   "id": "3f5f2adb-8784-413e-bc6e-91b2348ac1b6",
   "metadata": {},
   "source": [
    "Objectives:\n",
    "- Define and understand Data Science Tasks\n",
    "- Introduce Data Science Free and Commercial Tools\n",
    "- List popular languages for Data Science\n",
    "- Introduce Python, R, and SQL \n",
    "- Introduce Git/GitHub"
   ]
  },
  {
   "cell_type": "markdown",
   "id": "44f050b8-ca56-43ad-9b1f-2514bb63690b",
   "metadata": {},
   "source": [
    "## Author\n",
    "Faruk Yasar"
   ]
  },
  {
   "cell_type": "code",
   "execution_count": null,
   "id": "08a6abd8-7fe8-4574-983e-fda26dd1f66d",
   "metadata": {},
   "outputs": [],
   "source": []
  }
 ],
 "metadata": {
  "kernelspec": {
   "display_name": "anaconda-panel-2023.05-py310",
   "language": "python",
   "name": "conda-env-anaconda-panel-2023.05-py310-py"
  },
  "language_info": {
   "codemirror_mode": {
    "name": "ipython",
    "version": 3
   },
   "file_extension": ".py",
   "mimetype": "text/x-python",
   "name": "python",
   "nbconvert_exporter": "python",
   "pygments_lexer": "ipython3",
   "version": "3.11.4"
  }
 },
 "nbformat": 4,
 "nbformat_minor": 5
}
